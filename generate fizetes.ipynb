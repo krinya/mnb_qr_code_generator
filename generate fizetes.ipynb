{
 "cells": [
  {
   "cell_type": "markdown",
   "id": "f59820c7",
   "metadata": {},
   "source": [
    "Import some packages"
   ]
  },
  {
   "cell_type": "code",
   "execution_count": 9,
   "id": "de8ec64a",
   "metadata": {},
   "outputs": [],
   "source": [
    "import pyqrcode\n",
    "import png\n",
    "from PIL import Image"
   ]
  },
  {
   "cell_type": "markdown",
   "id": "a8b70287",
   "metadata": {},
   "source": [
    "### Test QR code generator"
   ]
  },
  {
   "cell_type": "markdown",
   "id": "70061c01",
   "metadata": {},
   "source": [
    "By using this function, we can generate a QR codes."
   ]
  },
  {
   "cell_type": "code",
   "execution_count": 10,
   "id": "6d6b82b5",
   "metadata": {},
   "outputs": [],
   "source": [
    "def create_qr_code(content = \"www.444.hu\", filename = \"qr_code.png\", scale = 5):\n",
    "    \n",
    "    qr_code = pyqrcode.create(content)\n",
    "    qr_code.png(filename, scale = scale)\n",
    "    im = Image.open(filename)\n",
    "    \n",
    "    return(im)"
   ]
  },
  {
   "cell_type": "code",
   "execution_count": 11,
   "id": "c85a9f37",
   "metadata": {},
   "outputs": [
    {
     "data": {
      "image/png": "[encoded data removed]",
      "text/plain": [
       "<PIL.PngImagePlugin.PngImageFile image mode=1 size=165x165 at 0x234822AB820>"
      ]
     },
     "execution_count": 11,
     "metadata": {},
     "output_type": "execute_result"
    }
   ],
   "source": [
    "create_qr_code()"
   ]
  },
  {
   "cell_type": "markdown",
   "id": "baf75a29",
   "metadata": {},
   "source": [
    "### We need to write a function to add some character at the end of the input strings because that is what the MNB standard requires."
   ]
  },
  {
   "cell_type": "code",
   "execution_count": 12,
   "id": "13d038c8",
   "metadata": {},
   "outputs": [],
   "source": [
    "def genarete_white_space_character_at_end(string = \"abc\", length = -1, characther = \" \", add_end = '\\n'):\n",
    "    \n",
    "    if length == -1:\n",
    "        length = len(string)\n",
    "    \n",
    "    length_of_a_string = len(string)\n",
    "    strings_to_add = length - len(string)\n",
    "    \n",
    "    new_string = string\n",
    "    \n",
    "    for i in range(strings_to_add):\n",
    "        new_string = new_string + characther\n",
    "    \n",
    "    new_string = new_string + add_end\n",
    "    \n",
    "    new_string = str(new_string)\n",
    "    \n",
    "    return(new_string)"
   ]
  },
  {
   "cell_type": "markdown",
   "id": "661a9a49",
   "metadata": {},
   "source": [
    "Test the function"
   ]
  },
  {
   "cell_type": "code",
   "execution_count": 13,
   "id": "eb2e8c4c",
   "metadata": {},
   "outputs": [
    {
     "data": {
      "text/plain": [
       "'abc\\n'"
      ]
     },
     "execution_count": 13,
     "metadata": {},
     "output_type": "execute_result"
    }
   ],
   "source": [
    "test = genarete_white_space_character_at_end()\n",
    "test"
   ]
  },
  {
   "cell_type": "code",
   "execution_count": 14,
   "id": "74e2783f",
   "metadata": {},
   "outputs": [
    {
     "data": {
      "text/plain": [
       "'teststring          \\n'"
      ]
     },
     "execution_count": 14,
     "metadata": {},
     "output_type": "execute_result"
    }
   ],
   "source": [
    "genarete_white_space_character_at_end(string = \"teststring\", length=20)"
   ]
  },
  {
   "cell_type": "markdown",
   "id": "4b62b719",
   "metadata": {},
   "source": [
    "# Generate QR Coce based on MNB standards"
   ]
  },
  {
   "cell_type": "markdown",
   "id": "b7546da0",
   "metadata": {},
   "source": [
    "https://www.mnb.hu/letoltes/qr-kod-utmutato-20190712.pdf"
   ]
  },
  {
   "cell_type": "markdown",
   "id": "bce14f21",
   "metadata": {},
   "source": [
    "BIC codes by banks:"
   ]
  },
  {
   "cell_type": "markdown",
   "id": "a87f86a8",
   "metadata": {},
   "source": [
    "https://www.penzcentrum.hu/vasarlas/20200929/mi-az-a-bic-kod-es-mi-celt-szolgal-a-swiftbic-kod-jelentese-otp-bic-kod-kh-bic-kod-1103262\n",
    "\n",
    "https://www.iban.hu/iban-checker\n",
    "\n",
    "https://farkasdezso.hu/bankszamlaszam/"
   ]
  },
  {
   "cell_type": "code",
   "execution_count": 15,
   "id": "8ecade65",
   "metadata": {},
   "outputs": [],
   "source": [
    "fogado_fel_neve = \"Kristóf Menyhért\"\n",
    "bankszamlaszam = \"HU04121000111032295400000000\"\n",
    "bic_kod = \"GNBAHUHB\"\n",
    "osszeg_huf = 1000"
   ]
  },
  {
   "cell_type": "code",
   "execution_count": 16,
   "id": "0fad9202",
   "metadata": {},
   "outputs": [],
   "source": [
    "azonosito_kod = \"HCT\\n\"\n",
    "verzioszam = \"001\\n\"\n",
    "karakterkeszlet = \"1\\n\"\n",
    "\n",
    "fizeto_fel_kedvezmenyzett_bic_bei = genarete_white_space_character_at_end(string=bic_kod)\n",
    "fizeto_fel_kedvezmenyzett_neve = genarete_white_space_character_at_end(string = fogado_fel_neve)\n",
    "fizeto_fel_kedvezmenyzett_IBAN = genarete_white_space_character_at_end(string = bankszamlaszam)\n",
    "osszeg = str(\"HUF\"+ str(osszeg_huf) + \"\\n\")\n",
    "ervenyessegi_ido = \"99991231235959+1\\n\"\n",
    "fizetesi_helyzet_azonosito = genarete_white_space_character_at_end(\"\")\n",
    "kozlemeny = genarete_white_space_character_at_end(\"kozlemeny test string\")\n",
    "\n",
    "\n",
    "kereskedelmi_egyseg_bolt_azonosito = genarete_white_space_character_at_end(\"bolt azonosito string\")\n",
    "kereskedoi_eszkoz_azonosito = genarete_white_space_character_at_end(\"\")\n",
    "szamla_vagy_nyugta_azonosito = genarete_white_space_character_at_end(\"\")\n",
    "ugyfelazonosito = genarete_white_space_character_at_end(\"\")\n",
    "kedvezmenyezett_belso_azonositoja = genarete_white_space_character_at_end(\"\")\n",
    "torzsvasarlo_vagy_kedvezmenyezett_azonositoja = genarete_white_space_character_at_end(\"\")\n",
    "nav_ellenorzokod = genarete_white_space_character_at_end(\"\")\n",
    "\n",
    "\n",
    "qr_code_content_all = azonosito_kod + verzioszam + karakterkeszlet + fizeto_fel_kedvezmenyzett_bic_bei + fizeto_fel_kedvezmenyzett_neve + fizeto_fel_kedvezmenyzett_IBAN + osszeg + ervenyessegi_ido + fizetesi_helyzet_azonosito + kozlemeny + kereskedelmi_egyseg_bolt_azonosito + kereskedoi_eszkoz_azonosito + szamla_vagy_nyugta_azonosito + ugyfelazonosito + kedvezmenyezett_belso_azonositoja + torzsvasarlo_vagy_kedvezmenyezett_azonositoja + nav_ellenorzokod"
   ]
  },
  {
   "cell_type": "code",
   "execution_count": 17,
   "id": "0bd2325c",
   "metadata": {
    "scrolled": true
   },
   "outputs": [
    {
     "data": {
      "text/plain": [
       "'HCT\\n001\\n1\\nGNBAHUHB\\nKristóf Menyhért\\nHU04121000111032295400000000\\nHUF1000\\n99991231235959+1\\n\\nkozlemeny test string\\nbolt azonosito string\\n\\n\\n\\n\\n\\n\\n'"
      ]
     },
     "execution_count": 17,
     "metadata": {},
     "output_type": "execute_result"
    }
   ],
   "source": [
    "qr_code_content_all"
   ]
  },
  {
   "cell_type": "code",
   "execution_count": 18,
   "id": "cf474217",
   "metadata": {},
   "outputs": [
    {
     "name": "stdout",
     "output_type": "stream",
     "text": [
      "HCT\n",
      "001\n",
      "1\n",
      "GNBAHUHB\n",
      "Kristóf Menyhért\n",
      "HU04121000111032295400000000\n",
      "HUF1000\n",
      "99991231235959+1\n",
      "\n",
      "kozlemeny test string\n",
      "bolt azonosito string\n",
      "\n",
      "\n",
      "\n",
      "\n",
      "\n",
      "\n",
      "\n"
     ]
    }
   ],
   "source": [
    "print(qr_code_content_all)"
   ]
  },
  {
   "cell_type": "code",
   "execution_count": 19,
   "id": "7927de2a",
   "metadata": {},
   "outputs": [
    {
     "data": {
      "image/png": "[encoded data removed]",
      "text/plain": [
       "<PIL.PngImagePlugin.PngImageFile image mode=1 size=219x219 at 0x23482FA5F10>"
      ]
     },
     "execution_count": 19,
     "metadata": {},
     "output_type": "execute_result"
    }
   ],
   "source": [
    "create_qr_code(content = qr_code_content_all, scale = 3)"
   ]
  },
  {
   "cell_type": "code",
   "execution_count": 20,
   "id": "4aea167f",
   "metadata": {},
   "outputs": [],
   "source": [
    "def generate_transfer_request(\n",
    "    fogado_fel_neve = \"Menyhért Zoltán\",\n",
    "    bankszamlaszam = \"HU65107000245550868756100000\",\n",
    "    bic_kod = \"GNBAHUHBXXX\",\n",
    "    osszeg_huf = 1000,\n",
    "    scale = 3):\n",
    "    \n",
    "    azonosito_kod = \"HCT\\n\"\n",
    "    verzioszam = \"001\\n\"\n",
    "    karakterkeszlet = \"1\\n\"\n",
    "\n",
    "    fizeto_fel_kedvezmenyzett_bic_bei = genarete_white_space_character_at_end(string=bic_kod)\n",
    "    fizeto_fel_kedvezmenyzett_neve = genarete_white_space_character_at_end(string = fogado_fel_neve)\n",
    "    fizeto_fel_kedvezmenyzett_IBAN = genarete_white_space_character_at_end(string = bankszamlaszam)\n",
    "    osszeg = str(\"HUF\"+ str(osszeg_huf) + \"\\n\")\n",
    "    ervenyessegi_ido = \"20220108235959+1\\n\"\n",
    "    fizetesi_helyzet_azonosito = genarete_white_space_character_at_end(\"\")\n",
    "    kozlemeny = genarete_white_space_character_at_end(\"kozlemeny test string\")\n",
    "\n",
    "\n",
    "    kereskedelmi_egyseg_bolt_azonosito = genarete_white_space_character_at_end(\"bolt azonosito string\")\n",
    "    kereskedoi_eszkoz_azonosito = genarete_white_space_character_at_end(\"\")\n",
    "    szamla_vagy_nyugta_azonosito = genarete_white_space_character_at_end(\"\")\n",
    "    ugyfelazonosito = genarete_white_space_character_at_end(\"\")\n",
    "    kedvezmenyezett_belso_azonositoja = genarete_white_space_character_at_end(\"\")\n",
    "    torzsvasarlo_vagy_kedvezmenyezett_azonositoja = genarete_white_space_character_at_end(\"\")\n",
    "    nav_ellenorzokod = genarete_white_space_character_at_end(\"\")\n",
    "\n",
    "\n",
    "    qr_code_content_all = azonosito_kod + verzioszam + karakterkeszlet + fizeto_fel_kedvezmenyzett_bic_bei + fizeto_fel_kedvezmenyzett_neve + fizeto_fel_kedvezmenyzett_IBAN + osszeg + ervenyessegi_ido + fizetesi_helyzet_azonosito + kozlemeny + kereskedelmi_egyseg_bolt_azonosito + kereskedoi_eszkoz_azonosito + szamla_vagy_nyugta_azonosito + ugyfelazonosito + kedvezmenyezett_belso_azonositoja + torzsvasarlo_vagy_kedvezmenyezett_azonositoja + nav_ellenorzokod\n",
    "    qr_code_return = create_qr_code(content = qr_code_content_all, scale = scale)\n",
    "    \n",
    "    return(qr_code_return)"
   ]
  },
  {
   "cell_type": "code",
   "execution_count": 21,
   "id": "9a42b344",
   "metadata": {},
   "outputs": [
    {
     "data": {
      "image/png": "[encoded data removed]",
      "text/plain": [
       "<PIL.PngImagePlugin.PngImageFile image mode=1 size=219x219 at 0x234822AB100>"
      ]
     },
     "execution_count": 21,
     "metadata": {},
     "output_type": "execute_result"
    }
   ],
   "source": [
    "generate_transfer_request(\n",
    "fogado_fel_neve = \"Menyhért Zoltán\",\n",
    "    bankszamlaszam = \"HU65107000245550868756100000\",\n",
    "    bic_kod = \"CIBHHUHB\",\n",
    "    osszeg_huf = 10)"
   ]
  },
  {
   "cell_type": "code",
   "execution_count": null,
   "id": "42a4a32d",
   "metadata": {},
   "outputs": [],
   "source": []
  }
 ],
 "metadata": {
  "kernelspec": {
   "display_name": "Python 3",
   "language": "python",
   "name": "python3"
  },
  "language_info": {
   "codemirror_mode": {
    "name": "ipython",
    "version": 3
   },
   "file_extension": ".py",
   "mimetype": "text/x-python",
   "name": "python",
   "nbconvert_exporter": "python",
   "pygments_lexer": "ipython3",
   "version": "3.8.8"
  }
 },
 "nbformat": 4,
 "nbformat_minor": 5
}
